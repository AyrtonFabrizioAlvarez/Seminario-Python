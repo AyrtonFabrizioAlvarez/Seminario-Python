{
 "cells": [
  {
   "cell_type": "markdown",
   "id": "14df4a10",
   "metadata": {},
   "source": [
    "# Actividad 1 por Python plus - Parte II\n",
    "\n",
    "- Sobre el ejercicio asignado:\n",
    "    - [Evaluación del trabajo asignado](#parte1.1)\n",
    "    - [Análisis del ejercicio asignado](#parte1.2)\n",
    "- Sobre este trabajo:\n",
    "    - [Corrección de la evaluación realizada](#parte2.1)\n",
    "    - [Solución alternativa](#parte2.2)\n",
    "    - [Uso de ChatGPT](#parte2.3)"
   ]
  },
  {
   "cell_type": "markdown",
   "id": "eb80dfd8",
   "metadata": {},
   "source": [
    "## Evaluación del trabajo asignado <a name=\"parte1.1\"></a>"
   ]
  },
  {
   "cell_type": "markdown",
   "id": "805c4f24",
   "metadata": {},
   "source": [
    "### Solución propuesta por tu compañero/a"
   ]
  },
  {
   "cell_type": "markdown",
   "id": "b2c22533",
   "metadata": {},
   "source": [
    "### -- Copiá acá el enunciado a corregir --\n",
    "\n",
    "Incluí también la URL del cuaderno asignado\n",
    "\n",
    "\n",
    "**URL:** --Acá va la url  --\n",
    "\n"
   ]
  },
  {
   "cell_type": "code",
   "execution_count": null,
   "id": "05249b25",
   "metadata": {},
   "outputs": [],
   "source": [
    "# COPIA ACA LA SOLUCION A EVALUAR\n",
    "\n",
    "import csv,os\n",
    "def actividadUser(user, info = \"FACULTAD\"):\n",
    "    #Siguiendo el ejemplo que esta en la teoría, no se si es lo correcto porque es muy dependiente la ruta\n",
    "    ruta = os.path.dirname(os.path.realpath(\".\"))\n",
    "    ruta = os.path.join(ruta,\"Downloads\",\"log_catedras.csv\")\n",
    "    with open(ruta, encoding=\"utf8\") as archivo_csv:\n",
    "        csv_reader = csv.DictReader(archivo_csv,delimiter=\",\")\n",
    "        \"\"\"encabezado = next(csv_reader) #Se queda con la primer linea tambien que no deberia de ser así(y esto debería ser \n",
    "        lo mas correcto para csv) segun el ejemplo de la teoria, lo saco y dejo todo en data por esa razon\"\"\"               \n",
    "        data = list(csv_reader)\n",
    "       \n",
    "    activ = []\n",
    "    #Esto debería ser algo con filter y lambda pero no se bien como hacerlo\n",
    "    for linea in data:\n",
    "        if (linea[\"Nombre completo del usuario\"] == user):\n",
    "            if (info == \"TODO\"):\n",
    "                activ.append(linea)\n",
    "            elif (info == \"FACULTAD\"):\n",
    "                if (linea[\"Dirección IP\"].startswith(\"163.10\")):\n",
    "                    activ.append(linea) \n",
    "            elif(info == \"EXTERIOR\"):\n",
    "                if not (linea[\"Dirección IP\"].startswith(\"163.10\")):\n",
    "                    activ.append(linea)\n",
    "            \n",
    "    return activ\n",
    "#Probando    \n",
    "usuario = \"Butterfree\"\n",
    "act = actividadUser(usuario)\n"
   ]
  },
  {
   "cell_type": "markdown",
   "id": "1eae6299",
   "metadata": {},
   "source": [
    "## Análisis del ejercicio asignado <a name=\"parte1.2\"></a>"
   ]
  },
  {
   "cell_type": "markdown",
   "id": "4e9717da",
   "metadata": {},
   "source": [
    "### Calificá de acuerdo a las siguientes pautas:"
   ]
  },
  {
   "cell_type": "code",
   "execution_count": 1,
   "id": "2762a6c2",
   "metadata": {
    "scrolled": true
   },
   "outputs": [],
   "source": [
    "# Puntos acumulados del trabajo de mi conpañero/a\n",
    "puntos_parte_I = 0"
   ]
  },
  {
   "cell_type": "markdown",
   "id": "fb152d91",
   "metadata": {},
   "source": [
    "1.- **¿El algoritmo para el procesamiento de datos en el archivo es correcto?¿Resuelve la consulta planteada?:** +10 puntos\n",
    "\n",
    "- Sumá 10 puntos si el código es correcto, inpendientemente si sigue con todas las indicaciones como lo pide el enunciado.\n"
   ]
  },
  {
   "cell_type": "code",
   "execution_count": 12,
   "id": "00a9cdca",
   "metadata": {
    "scrolled": true
   },
   "outputs": [],
   "source": [
    "# puntos a sumar de esta consigna:\n",
    "puntos_parte_I += 10"
   ]
  },
  {
   "cell_type": "markdown",
   "id": "43ba367c",
   "metadata": {},
   "source": [
    "2.-**¿Define la función de acuerdo a lo pedido? (respecto a la definición de parámetros, y valores retornados)**: +5 puntos\n",
    "\n",
    "- Sumá 2.5 puntos: si lo hace pero presenta algún error (indicá cuál es el error).\n",
    "\n",
    "- Sumá 5 puntos: si está correcto"
   ]
  },
  {
   "cell_type": "code",
   "execution_count": 13,
   "id": "590a4742",
   "metadata": {
    "scrolled": true
   },
   "outputs": [],
   "source": [
    "# puntos a sumar de esta consigna:\n",
    "puntos_parte_I += 5"
   ]
  },
  {
   "cell_type": "markdown",
   "id": "577b576a",
   "metadata": {},
   "source": [
    "3.-**¿Genera el listado de acuerdo a lo pedido?¿Respeta el formato propuesto?**: +5 puntos\n",
    "\n",
    "- Sumá 2.5 puntos: si lo hace pero presenta algún error (indicá cuál es el error).\n",
    "\n",
    "- Sumá 5 puntos: si está correcto"
   ]
  },
  {
   "cell_type": "code",
   "execution_count": 14,
   "id": "e3963e5d",
   "metadata": {
    "scrolled": true
   },
   "outputs": [],
   "source": [
    "# puntos a sumar de esta consigna:\n",
    "puntos_parte_I += 5"
   ]
  },
  {
   "cell_type": "markdown",
   "id": "e619052f",
   "metadata": {},
   "source": [
    "4- **Sobre el acceso al archivo de datos:** -10  a 5 puntos\n",
    "\n",
    "- Descontá 5 puntos si lo abre utilizando una ruta absoluta (ejemplo: /home/archivo/archivo.csv).\n",
    "- Descontá 5 puntos si no se cierra el archivo.\n",
    "- Sumá 5 puntos si usa la sentencia with y lo hace en forma correcta.\n",
    "- Sumá 5 puntos si abre correctamente el archivo (sin with) y lo cierra."
   ]
  },
  {
   "cell_type": "code",
   "execution_count": 15,
   "id": "b55c9896",
   "metadata": {
    "scrolled": true
   },
   "outputs": [],
   "source": [
    "# puntos a sumar de esta consigna:\n",
    "puntos_parte_I += 5"
   ]
  },
  {
   "cell_type": "markdown",
   "id": "1670ee4b",
   "metadata": {},
   "source": [
    "5.- **Alguna otra falla o detalles que quieras marcar?**: - 5 puntos\n",
    "\n",
    "- Especificá cuál es el error que encontrás:"
   ]
  },
  {
   "cell_type": "code",
   "execution_count": null,
   "id": "1e985faa",
   "metadata": {
    "scrolled": true
   },
   "outputs": [],
   "source": [
    "# puntos a descontar de esta consigna:\n",
    "puntos_parte_I -= 0"
   ]
  },
  {
   "cell_type": "markdown",
   "id": "50b1c6fc",
   "metadata": {},
   "source": [
    "### Total de puntos de la actividad (parte I) del trabajo asignado:"
   ]
  },
  {
   "cell_type": "code",
   "execution_count": 10,
   "id": "afbe1851",
   "metadata": {
    "scrolled": true
   },
   "outputs": [
    {
     "name": "stdout",
     "output_type": "stream",
     "text": [
      "Puntos actividad 1 - Parte I: 25\n"
     ]
    }
   ],
   "source": [
    "print(f\"Puntos actividad 1 - Parte I: {puntos_parte_I if puntos_parte_I >0 else 0}\")"
   ]
  },
  {
   "cell_type": "markdown",
   "id": "34aa40a5",
   "metadata": {},
   "source": [
    "### ¿Algo más que no fue considerado?"
   ]
  },
  {
   "attachments": {},
   "cell_type": "markdown",
   "id": "1e1f3415",
   "metadata": {},
   "source": [
    "**Feedback**\n",
    "\n",
    "Solo encontre 3 cosas que modificaria ya que no los considero errores y queda a criterio de la profe (para mi no deberia descontar puntos) .\n",
    "\n",
    "\n",
    "- En la variable \"usuario\" que es donde se guarda el nombre a buscar (paremetro \"user\" en la funcion) no distingue de minusculas o mayusculas.\n",
    "- En el parametro opcional \"info\" tampoco distingue de minusculas o mayusculas.\n",
    "- Habria usado una estructura match/case y no anidar if's aunque al ser solo 3 condiciones sigue siendo legible\n",
    "\n",
    "\n",
    "No encuentro ningun otro detalle mas alla de que es una pena que cueste tando lambda o filter por ejemplo, tambien tuve problemas con el path y en la modificacion que subo voy a dejar como me funciono a mi. Solo es cuestion de practica pero excelente ejercicio."
   ]
  },
  {
   "cell_type": "markdown",
   "id": "dc26afe2",
   "metadata": {},
   "source": [
    "## Corrección de la evaluación realizada - Total 20 puntos <a name=\"parte2.1\"></a>"
   ]
  },
  {
   "cell_type": "code",
   "execution_count": 16,
   "id": "a397db33",
   "metadata": {
    "scrolled": true
   },
   "outputs": [],
   "source": [
    "# Puntos acumulados de mi parte II    - A COMPLETAR POR LA CATEDRA -\n",
    "puntos_parte_II = 0"
   ]
  },
  {
   "cell_type": "markdown",
   "id": "93b1dce8",
   "metadata": {},
   "source": [
    "### Corrección de la parte I de mi compañero/a: 10 puntos\n",
    "\n",
    "- Suma 10 puntos si la evaluación realizada es correcta.\n",
    "- Suma 5 puntos si el manejo de arhivos está mal evaluado, pero el resto es correcto.\n",
    "- Suma 5 puntos si la definición de la función está mal evaluada pero el resto es correcto. "
   ]
  },
  {
   "cell_type": "code",
   "execution_count": null,
   "id": "8ebab756",
   "metadata": {
    "scrolled": true
   },
   "outputs": [],
   "source": [
    "# Sumo puntos de la sección - A COMPLETAR POR LA CATEDRA -\n",
    "puntos_parte_II += 10"
   ]
  },
  {
   "cell_type": "markdown",
   "id": "b6836a8f",
   "metadata": {},
   "source": [
    "### Análisis de la  solución propuesta por mi compañero/a: 10 puntos\n",
    "\n",
    "Responodé: "
   ]
  },
  {
   "cell_type": "markdown",
   "id": "3631026c",
   "metadata": {},
   "source": [
    "- **¿Qué estructuras de datos usa para el manejo de los datos ingresados desde el archivo?** 3 ptos.\n",
    "\n"
   ]
  },
  {
   "attachments": {},
   "cell_type": "markdown",
   "id": "b5c472bf",
   "metadata": {},
   "source": [
    "Para el manejo de los datos utiliza un dato de tipo csv.dictReader (\"csv_reader\"), luego lo pasa a (\"data\") que sera de tipo list "
   ]
  },
  {
   "cell_type": "markdown",
   "id": "19c84303",
   "metadata": {},
   "source": [
    "- **¿Usa expresiones lambda, funciones map, filter, reduce u otra similar? ¿Están correctamente definidas?** 2 ptos.\n",
    "\n"
   ]
  },
  {
   "attachments": {},
   "cell_type": "markdown",
   "id": "1076541a",
   "metadata": {},
   "source": [
    "No utilizo ninguna de las funciones mencionadas"
   ]
  },
  {
   "cell_type": "markdown",
   "id": "ece79493",
   "metadata": {},
   "source": [
    "- **¿Recorre el archivo más de lo necesario para resolver el ejercicio? ¿Se podría haber hecho de una mejor forma?Justificá.** 5 ptos. si justificás.\n",
    "\n",
    "\n"
   ]
  },
  {
   "attachments": {},
   "cell_type": "markdown",
   "id": "9fd0881e",
   "metadata": {},
   "source": [
    "No, incluso a mi cirterio lo resolvio muy bien ya que abre el archivo, utiliza csv.dictReader, lo pasa automaticamente a una lista y sale, incluso del with que como yo entendi, es la mejor forma de manejar la apertura y cierre de los archivos, a mi gusto tambien lo hace mas legible"
   ]
  },
  {
   "cell_type": "code",
   "execution_count": null,
   "id": "d63dc7e9",
   "metadata": {
    "scrolled": true
   },
   "outputs": [],
   "source": [
    "# Sumo puntos de la sección - A COMPLETAR POR LA CATEDRA -\n",
    "puntos_parte_II += 10"
   ]
  },
  {
   "cell_type": "markdown",
   "id": "29fdc855",
   "metadata": {},
   "source": [
    "## Escribí una solución alternativa a la planteada por tu compañero/a: 15 puntos <a name=\"parte2.2\"></a>\n",
    "**Esta solución será evaluada de acuerdo a las mismas pautas establecidas en este cuaderno.** (reduciendo proporcionalmente los puntos de cada sección, dado que el acá es 15 y no 25)"
   ]
  },
  {
   "cell_type": "code",
   "execution_count": 35,
   "id": "9a1bc0dc",
   "metadata": {
    "scrolled": true
   },
   "outputs": [
    {
     "name": "stdout",
     "output_type": "stream",
     "text": [
      "Usuario: Charmander \n",
      " ------------------------------------------------------------\n",
      " Dia        Recurso accedido      Dir IP           Hora  \n",
      " ------------------------------------------------------------ \n",
      "\n",
      "28/03/23    Curso: Seminario      163.10.143.192   08:41:49 \n",
      "\n",
      "28/03/23    Curso: Seminario      163.10.143.192   08:41:47 \n",
      "\n",
      "23/03/23    Foro: Consultas       163.10.141.30    08:10:50 \n",
      "\n",
      "23/03/23    Curso: Seminario      163.10.141.30    08:10:45 \n",
      "\n",
      "23/03/23    Curso: Seminario      163.10.141.30    08:08:06 \n",
      "\n",
      "23/03/23    Foro: Consultas       163.10.141.30    08:07:49 \n",
      "\n",
      "21/03/23    Cuestionario: Rep     163.10.142.255   08:46:04 \n",
      "\n",
      "21/03/23    Cuestionario: Rep     163.10.142.255   08:46:04 \n",
      "\n",
      "21/03/23    Curso: Seminario      163.10.142.255   08:46:04 \n",
      "\n",
      "21/03/23    Cuestionario: Rep     163.10.142.255   08:45:59 \n",
      "\n",
      "21/03/23    Cuestionario: Rep     163.10.142.255   08:45:59 \n",
      "\n",
      "21/03/23    Cuestionario: Rep     163.10.142.255   08:45:57 \n",
      "\n",
      "21/03/23    Cuestionario: Rep     163.10.142.255   08:45:57 \n",
      "\n",
      "21/03/23    Cuestionario: Rep     163.10.142.255   08:45:54 \n",
      "\n",
      "21/03/23    Cuestionario: Rep     163.10.142.255   08:45:54 \n",
      "\n",
      "21/03/23    Cuestionario: Rep     163.10.142.255   08:45:32 \n",
      "\n",
      "21/03/23    Cuestionario: Rep     163.10.142.255   08:45:22 \n",
      "\n",
      "21/03/23    Cuestionario: Rep     163.10.142.255   08:45:22 \n",
      "\n",
      "21/03/23    Cuestionario: Rep     163.10.142.255   08:44:42 \n",
      "\n",
      "21/03/23    Cuestionario: Rep     163.10.142.255   08:44:42 \n",
      "\n",
      "21/03/23    Cuestionario: Rep     163.10.142.255   08:43:45 \n",
      "\n",
      "21/03/23    Cuestionario: Rep     163.10.142.255   08:43:45 \n",
      "\n",
      "21/03/23    Cuestionario: Rep     163.10.142.255   08:43:21 \n",
      "\n",
      "21/03/23    Cuestionario: Rep     163.10.142.255   08:43:21 \n",
      "\n",
      "21/03/23    Cuestionario: Rep     163.10.142.255   08:42:30 \n",
      "\n",
      "21/03/23    Cuestionario: Rep     163.10.142.255   08:42:30 \n",
      "\n",
      "21/03/23    Cuestionario: Rep     163.10.142.255   08:42:13 \n",
      "\n",
      "21/03/23    Página: Material      163.10.142.255   08:41:31 \n",
      "\n",
      "21/03/23    Página: Material      163.10.142.255   08:40:23 \n",
      "\n",
      "21/03/23    Curso: Seminario      163.10.142.255   08:36:56 \n",
      "\n",
      "21/03/23    Encuesta: Encuest     163.10.142.255   08:36:53 \n",
      "\n",
      "21/03/23    Curso: Seminario      163.10.142.255   08:36:32 \n",
      "\n",
      "16/03/23    Tarea: Entrega 1      163.10.142.12    09:39:40 \n",
      "\n",
      "16/03/23    Tarea: Entrega 1      163.10.142.12    09:39:40 \n",
      "\n",
      "16/03/23    Tarea: Entrega 1      163.10.142.12    09:39:36 \n",
      "\n",
      "16/03/23    Tarea: Entrega 1      163.10.142.12    09:39:36 \n",
      "\n",
      "16/03/23    Tarea: Entrega 1      163.10.142.12    09:39:35 \n",
      "\n",
      "16/03/23    Tarea: Entrega 1      163.10.142.12    09:39:27 \n",
      "\n",
      "16/03/23    Tarea: Entrega 1      163.10.142.12    09:39:27 \n",
      "\n",
      "16/03/23    Tarea: Entrega 1      163.10.142.12    09:39:27 \n",
      "\n",
      "16/03/23    Tarea: Entrega 1      163.10.142.12    09:33:03 \n",
      "\n",
      "16/03/23    Tarea: Entrega 1      163.10.142.12    09:33:02 \n",
      "\n",
      "16/03/23    Tarea: Entrega 1      163.10.142.12    09:27:58 \n",
      "\n",
      "16/03/23    Tarea: Entrega 1      163.10.142.12    09:27:58 \n",
      "\n",
      "16/03/23    Curso: Seminario      163.10.142.12    09:27:42 \n",
      "\n",
      "16/03/23    Archivo: Cronogra     163.10.142.12    09:25:36 \n",
      "\n",
      "16/03/23    Curso: Seminario      163.10.142.12    09:25:23 \n",
      "\n",
      "16/03/23    Tarea: Entrega 1      163.10.142.12    08:11:16 \n",
      "\n",
      "16/03/23    Tarea: Entrega 1      163.10.142.12    08:11:16 \n",
      "\n",
      "16/03/23    Curso: Seminario      163.10.142.12    08:11:07 \n",
      "\n",
      "14/03/23    Curso: Seminario      163.10.140.226   10:33:25 \n",
      "\n",
      "14/03/23    Curso: Seminario      163.10.140.226   09:09:15 \n",
      "\n",
      "14/03/23    Encuesta: Encuest     163.10.140.226   09:09:12 \n",
      "\n",
      "14/03/23    Encuesta: Encuest     163.10.140.226   09:08:52 \n",
      "\n",
      "14/03/23    Curso: Seminario      163.10.140.226   09:08:43 \n",
      "\n"
     ]
    }
   ],
   "source": [
    "# Solución alternativa\n",
    "import csv,os\n",
    "\n",
    "def actividadUser(user, info = \"FACULTAD\"):\n",
    "    \"\"\"Esta funcion recibe de manera obligatoria un csv.dictReader que contiene diccionarioscon las actividades de cada usuari y, un nombre de usuario buscado.\n",
    "\n",
    "    {'Hora': '3/04/23, 09:37:32',\n",
    "    'Nombre completo del usuario': 'Butterfree',\n",
    "    'Usuario afectado': '-',\n",
    "    'Contexto del evento': 'Curso: Seminario de  Lenguajes - Opción Python (2023)',\n",
    "    'Nombre evento': 'Informe de registro visualizado',\n",
    "    'Descripción': 'The user with id 12 viewed the log report for the course with id 1159.',\n",
    "    'Dirección IP': '186.137.41.137'}\n",
    "\n",
    "    De manera opcional se recibr que actividades se quieren imprimir segun su key \"Dirección IP\":\n",
    "        \n",
    "    'facultad': retorna una lista con diccionarios que contienen toda la actividad del usuario\n",
    "        {key = \"Dirección IP\" value = empieza con 163.10}\n",
    "\n",
    "    'exterior': retorna una lista con todas las actividades del usuario donde\n",
    "        {key = \"Dirección IP\" value =no empieza con 163.10}\n",
    "\n",
    "    'todo': retorna una lista con todas las actividades del usuario donde\n",
    "\n",
    "    \"\"\"\n",
    "    ruta = os.path.realpath(\".\")\n",
    "    ruta = os.path.join(ruta,\"log_catedras.csv\")\n",
    "    with open(ruta, encoding=\"utf-8\") as archivo_csv:\n",
    "        csv_reader = csv.DictReader(archivo_csv, delimiter=\",\")            \n",
    "        \n",
    "        actividad = [linea for linea in csv_reader if linea[\"Nombre completo del usuario\"].lower() == user.lower()]\n",
    "        match info.lower() : \n",
    "            case 'todo':\n",
    "                return actividad\n",
    "            case 'exterior':\n",
    "                return [dicc for dicc in actividad if not (dicc[\"Dirección IP\"].startswith(\"163.10\"))]\n",
    "            case _ :\n",
    "                return [dicc for dicc in actividad if dicc[\"Dirección IP\"].startswith(\"163.10\")]\n",
    "            \n",
    "        return actividad\n",
    "    \n",
    "def mostrar(act):\n",
    "    \"\"\"\"Muestra el contenido de la Lista de Diccionarios con la actividad filtrada o no del usuario ingresado, tiene una estructura especifica con margenes y separacion como si fuera un listado\"\"\"\n",
    "    print((f\"Usuario: {usuario} \\n {60*'-'}\\n Dia{7*' '} Recurso accedido{5*' '} Dir IP{10*' '} Hora  \\n {60*'-'} \\n\"))\n",
    "    for elem in act:\n",
    "        print(f\"{elem['Hora'].split(',')[0]:<10}  {elem['Contexto del evento'][:17]:<17}{3*' '}  {elem['Dirección IP']:<15} {elem['Hora'].split(',')[1]:<10}\\n\") \n",
    "\n",
    "\n",
    "#Probando    \n",
    "\n",
    "buscado = input(\"Ingrese el nombre de usuario que desea buscar: \").lower().capitalize()\n",
    "\n",
    "tipoDeActividad = input(\"Ingrese la informacion que desea listar:\\n'todo': listar todas las actividades del usuario\\n'facultad': listar las actividades cuya Direccion IP empieza con 163.10\\n'teoria': listar las actividades cuya Direccion IP no empieza con 163.10\")\n",
    "\n",
    "act = actividadUser(buscado, tipoDeActividad)\n",
    "\n",
    "mostrar(act)\n",
    "\n"
   ]
  },
  {
   "cell_type": "code",
   "execution_count": null,
   "id": "b61dae7c",
   "metadata": {
    "scrolled": true
   },
   "outputs": [],
   "source": [
    "# Sumo puntos de la sección - A COMPLETAR POR LA CATEDRA\n",
    "puntos_parte_II += 15"
   ]
  },
  {
   "cell_type": "markdown",
   "id": "7920e10b",
   "metadata": {},
   "source": [
    "## Uso de GPT - Total 5 puntos  <a name=\"parte2.3\"></a>\n",
    "\n",
    "\n",
    "**Mostrá una solución (o partes de la misma) dada por ChatGPT a este ejercicio.** (2.5 pts.)"
   ]
  },
  {
   "cell_type": "code",
   "execution_count": null,
   "id": "7f3abde7",
   "metadata": {},
   "outputs": [],
   "source": [
    "# Código dado por ChatGPT\n",
    "import csv\n",
    "\n",
    "def actividad_usuario(usuario, filtro=\"FACULTAD\"):\n",
    "    \"\"\" Retorna la actividad de un usuario dado como parámetro.\n",
    "        El parámetro 'filtro' indica qué registros se incluyen en el resultado:\n",
    "            \"TODO\": información completa\n",
    "            \"FACULTAD\": solo accesos desde la facultad (dirección IP que comienza con \"163.10\")\n",
    "            \"EXTERIOR\": solo accesos desde fuera de la facultad (dirección IP que no comienza con \"163.10\")\n",
    "            Por defecto, se muestran solo los accesos desde la facultad.\n",
    "    \"\"\"\n",
    "    registros = []\n",
    "    with open(\"log_catedras.csv\", newline=\"\") as csvfile:\n",
    "        reader = csv.DictReader(csvfile)\n",
    "        for row in reader:\n",
    "            if row[\"Usuario\"] == usuario:\n",
    "                if filtro == \"TODO\":\n",
    "                    registros.append(row)\n",
    "                elif filtro == \"FACULTAD\" and row[\"Dir IP\"].startswith(\"163.10\"):\n",
    "                    registros.append(row)\n",
    "                elif filtro == \"EXTERIOR\" and not row[\"Dir IP\"].startswith(\"163.10\"):\n",
    "                    registros.append(row)\n",
    "    return registros\n",
    "\n",
    "\n",
    "def mostrar_actividad_usuario(usuario):\n",
    "    print(\"Usuario:\", usuario)\n",
    "    print(\"-\" * 50)\n",
    "    print(\"{:<10} {:<20} {:<15} {:<8}\".format(\"Dia\", \"Recurso accedido\", \"Dir IP\", \"Hora\"))\n",
    "    print(\"-\" * 50)\n",
    "    registros = actividad_usuario(usuario)\n",
    "    for registro in registros:\n",
    "        recurso = registro[\"Recurso accedido\"][:20] + \"...\" if len(registro[\"Recurso accedido\"]) > 20 else registro[\"Recurso accedido\"]\n",
    "        print(\"{:<10} {:<20} {:<15} {:<8}\".format(registro[\"Dia\"], recurso, registro[\"Dir IP\"], registro[\"Hora\"]))\n",
    "\n",
    "\n",
    "# Ejemplo de uso: mostrar la actividad del usuario \"Hypno\" desde la facultad\n",
    "mostrar_actividad_usuario(\"Hypno\")"
   ]
  },
  {
   "cell_type": "markdown",
   "id": "9caf4a8f",
   "metadata": {},
   "source": [
    "**Respondé:** (2.5pts.)"
   ]
  },
  {
   "cell_type": "markdown",
   "id": "92626791",
   "metadata": {},
   "source": [
    "1. **En la respuesta dada, ¿se incluyen funciones o métodos no dados por la cátedra?** (SI/NO)"
   ]
  },
  {
   "attachments": {},
   "cell_type": "markdown",
   "id": "b396e7cc",
   "metadata": {},
   "source": [
    "En este caso no se incluyen funciones o metodos que excedan lo visto en el Seminario"
   ]
  },
  {
   "cell_type": "markdown",
   "id": "18c77963",
   "metadata": {},
   "source": [
    "2. **¿Es entendible el código y la explicación propuesta?** SI/NO (si la respuesta es NO, indicá qué parte no se entiende)"
   ]
  },
  {
   "attachments": {},
   "cell_type": "markdown",
   "id": "1f1a4248",
   "metadata": {},
   "source": [
    "Si, es entendible, de echo me hace dudar si mi solucion fue mas eficiente ya que no utilice la anidacion de if's, opte por un match/case.\n",
    "\n",
    "Por otra parte si me sirve ver como manejo todod entro de una unica funcion ya que al estar manejandome hace poco en Python me da la posibilidad de ver ejemplos de uso donde la estructura del codigo es mas legible y maximiza los beneficios de la modularizacion"
   ]
  },
  {
   "attachments": {},
   "cell_type": "markdown",
   "id": "7ba932f2",
   "metadata": {},
   "source": [
    "3. **Según esta experiencia, ¿podés decir si  el ejercicio que te tocó corregir fue resuelto con la ayuda de ChatGPT? ¿En qué te basás para responder esto?**"
   ]
  },
  {
   "attachments": {},
   "cell_type": "markdown",
   "id": "177978cb",
   "metadata": {},
   "source": [
    "A mi criterio no parece utilizar chatGpt, si bien la estructura es similar, noto alguna desventaja en el codigo de mi compañero, por ejemplo ya que utiliza 1 elif y 1 if en lugar de utilizar como chatGPT un operador logico && y la 2da condicion todo dentro del elif"
   ]
  },
  {
   "cell_type": "markdown",
   "id": "ed9fc632",
   "metadata": {},
   "source": [
    "4. **Utilizaste la ayuda de ChatGPT para escribir la solución alternativa?** (SI/NO)"
   ]
  },
  {
   "attachments": {},
   "cell_type": "markdown",
   "id": "f03e477d",
   "metadata": {},
   "source": [
    "No, intento utilizar chatGPT para comprobacion o para mejorar mis algoritmos una vez resueltos por mi mismo"
   ]
  },
  {
   "cell_type": "markdown",
   "id": "6eeae749",
   "metadata": {},
   "source": [
    "5. **Si respondiste afirmativamente la respuesta anterior, ¿de qué forma lo usaste?**\n",
    "Posibles respuestas (podés mencionar otras): \n",
    "- \"Lo usé para arrancar, ya que no se me ocurrió otra solución.\"\n",
    "- \"Lo usé para  verificar si lo que había planteado era correcto.\"\n",
    "- \"Lo usé sólo para definir la armar el listado pedido.\"\n",
    "- \"Lo usé sólo para ver cómo procesar el archivo de acuerdo a lo pedido.\""
   ]
  },
  {
   "cell_type": "code",
   "execution_count": null,
   "id": "0229a240",
   "metadata": {},
   "outputs": [],
   "source": [
    "# Sumo puntos de la sección - A COMPLETAR POR LA CATEDRA - \n",
    "puntos_parte_II += 5"
   ]
  },
  {
   "cell_type": "markdown",
   "id": "b0ba1701",
   "metadata": {},
   "source": [
    "### Total puntos de la actividad"
   ]
  },
  {
   "cell_type": "code",
   "execution_count": null,
   "id": "8248b652",
   "metadata": {
    "scrolled": true
   },
   "outputs": [],
   "source": [
    "print(f\"Puntos actividad 1 - Parte II: {puntos_parte_II if puntos_parte_II >0 else 0}\")"
   ]
  }
 ],
 "metadata": {
  "kernelspec": {
   "display_name": "Python 3 (ipykernel)",
   "language": "python",
   "name": "python3"
  },
  "language_info": {
   "codemirror_mode": {
    "name": "ipython",
    "version": 3
   },
   "file_extension": ".py",
   "mimetype": "text/x-python",
   "name": "python",
   "nbconvert_exporter": "python",
   "pygments_lexer": "ipython3",
   "version": "3.11.2"
  }
 },
 "nbformat": 4,
 "nbformat_minor": 5
}

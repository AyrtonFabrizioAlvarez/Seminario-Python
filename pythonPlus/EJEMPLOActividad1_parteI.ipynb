{
 "cells": [
  {
   "cell_type": "markdown",
   "id": "b015a19f",
   "metadata": {},
   "source": [
    "# Actividad 1 por Python plus - Parte I - EJEMPLO\n"
   ]
  },
  {
   "cell_type": "markdown",
   "id": "b0d0ad1d",
   "metadata": {},
   "source": [
    "## Parte I\n",
    "\n",
    "Resolvé el siguiente desafío:\n",
    "1. Escribir una función que dada una cadena de caracteres, ingresada desde el teclado,  retorne la misma codificada según el siguiente algoritmo: La función puede invocarse con un parámetro opcional que indicará  la forma en que se genera la cadena. Esto puede ser en orden normal o inverrtida.  Incluí un código donde se pueda comprobar el funcionamiento de la función con un ejemplo.\n",
    "\n",
    "```\n",
    "encripto(\"a\") --> \"b\"\n",
    "encripto(\"ABC\") --> \"BCD\"\n",
    "encripto(\"Rock2021\") --> \"Spdl3132\"\n",
    "encripto(\"ABC\", orden=\"invertido\") --> \"DCB\"\n",
    "\n",
    "```\n",
    "\n",
    "Una explicación simple de la WIkipedia: [Cifrado César](https://es.wikipedia.org/wiki/Cifrado_C%C3%A9sar#:~:text=El%20cifrado%20C%C3%A9sar%20mueve%20cada,de%20espacios%20en%20el%20alfabeto.&text=Es%20un%20tipo%20de%20cifrado,m%C3%A1s%20adelante%20en%20el%20alfabeto.)\n",
    "\n",
    "\n",
    "2. Codificá el texto almacenado en el archivo dado, utilizando la función en cada límea del mismo. Mostrá el resultado en una tabla de la siguiente forma:\n",
    "\n",
    "```\n",
    "--------------------------------------------------------------------------\n",
    "Palabra original     Palabra cifrada normal     Palabra cifrada invertida\n",
    "--------------------------------------------------------------------------\n",
    "En                   Fo                         oF\n",
    "Argentina            Bshfoujob                  bojuofhsB\n",
    "nací                 obdî                       idbo\n",
    "tierra               ujfssb                     bssfju\n",
    "de                   ef                         fe\n",
    "Diego                Ejfhp                      phfjE\n",
    "y                    z                          z\n",
    "Lionel               Mjpofm                    mfopjM         \n",
    "```\n",
    "\n"
   ]
  },
  {
   "cell_type": "markdown",
   "id": "58618511",
   "metadata": {},
   "source": [
    "### Solución\n",
    "\n",
    "### Parte 1"
   ]
  },
  {
   "cell_type": "code",
   "execution_count": 1,
   "id": "5021bb7c",
   "metadata": {},
   "outputs": [],
   "source": [
    "def encripto(cadema, invertida=True):\n",
    "    cadena_encriptada = list(map(lambda x: chr(ord(x) + 1), cadena))\n",
    "    cadena_encriptada = \"\".join(cadena_encriptada)\n",
    "    return cadena_encriptada[::-1] if invertida else cadena_encriptada"
   ]
  },
  {
   "cell_type": "code",
   "execution_count": 2,
   "id": "8beed54b",
   "metadata": {},
   "outputs": [
    {
     "name": "stdout",
     "output_type": "stream",
     "text": [
      "Ingresá la palabra a codificar: Argentina\n",
      "Bshfoujob\n",
      "bojuofhsB\n"
     ]
    }
   ],
   "source": [
    "cadena = input(\"Ingresá la palabra a codificar: \")\n",
    "print(encripto(cadena, False))\n",
    "print(encripto(cadena))"
   ]
  },
  {
   "cell_type": "markdown",
   "id": "ccab9dc5",
   "metadata": {},
   "source": [
    "### Parte 2\n"
   ]
  },
  {
   "cell_type": "code",
   "execution_count": null,
   "id": "e521723c",
   "metadata": {},
   "outputs": [],
   "source": [
    "# Solución aca\n"
   ]
  }
 ],
 "metadata": {
  "kernelspec": {
   "display_name": "Python 3 (ipykernel)",
   "language": "python",
   "name": "python3"
  },
  "language_info": {
   "codemirror_mode": {
    "name": "ipython",
    "version": 3
   },
   "file_extension": ".py",
   "mimetype": "text/x-python",
   "name": "python",
   "nbconvert_exporter": "python",
   "pygments_lexer": "ipython3",
   "version": "3.11.2"
  }
 },
 "nbformat": 4,
 "nbformat_minor": 5
}

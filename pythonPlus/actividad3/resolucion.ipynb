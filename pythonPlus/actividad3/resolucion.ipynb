{
 "cells": [
  {
   "attachments": {},
   "cell_type": "markdown",
   "metadata": {},
   "source": [
    "# Codigo dado por la catedra"
   ]
  },
  {
   "cell_type": "code",
   "execution_count": 18,
   "metadata": {},
   "outputs": [
    {
     "name": "stdout",
     "output_type": "stream",
     "text": [
      "{'Rhyhorn': 670}\n",
      "{'Hypno': 5121, 'Butterfree': 5844}\n"
     ]
    }
   ],
   "source": [
    "import csv\n",
    "\n",
    "archivo_log = \"log_completo.csv\" \n",
    "\n",
    "def mi_funcion(datos, *args):\n",
    "    dicci = {}\n",
    "    for elem in args:\n",
    "        dicci[elem] = len([x for x in datos if x[1]  == elem ])\n",
    "    return dicci  \n",
    "\n",
    "with open(archivo_log, encoding='utf-8') as data_set:\n",
    "    reader = csv.reader(data_set, delimiter=',')\n",
    "    encabezado_log, datos_log = next(reader), list(reader)\n",
    "    \n",
    "resultado1 = mi_funcion(datos_log, \"Rhyhorn\")\n",
    "print(resultado1)\n",
    "\n",
    "resultado2 = mi_funcion(datos_log, \"Hypno\", \"Butterfree\")\n",
    "print(resultado2)\n"
   ]
  },
  {
   "attachments": {},
   "cell_type": "markdown",
   "metadata": {},
   "source": [
    "# Codigo Ayrton Alvarez"
   ]
  },
  {
   "cell_type": "code",
   "execution_count": 22,
   "metadata": {},
   "outputs": [
    {
     "name": "stdout",
     "output_type": "stream",
     "text": [
      "   Nombre completo del usuario  count\n",
      "0                   Butterfree   5844\n",
      "1                        Hypno   5121\n",
      "87                     Rhyhorn    670\n"
     ]
    }
   ],
   "source": [
    "import pandas as pd\n",
    "\n",
    "\n",
    "def filtrar_datos(datos, *nombres_buscados):\n",
    "    \"\"\"esta funcion filtra un DataFrame y retorna las apariciones\n",
    "    de los nombres_bucados\n",
    "\n",
    "    Args:\n",
    "        datos (pandas.core.frame.DataFrame): DataFrame con los logs de usuarios\n",
    "\n",
    "    Returns:\n",
    "        pandas.core.frame.DataFrame: DataFrame con los usuarios buscados y sus apariciones\n",
    "    \"\"\"    \n",
    "    # Obtengo la Serie(columna) \"nombre\"\n",
    "    nombres = datos[\"Nombre completo del usuario\"]\n",
    "\n",
    "    # Obtengo el DataFrae agregando la columna \"count\"\n",
    "    apariciones = nombres.value_counts().reset_index()\n",
    "\n",
    "    # Obtengo el Dataframe con los datos de los usuarios buscados\n",
    "    filtrados = apariciones.loc[(apariciones['Nombre completo del usuario'].isin(nombres_buscados))]\n",
    "\n",
    "    return filtrados\n",
    "\n",
    "\n",
    "archivo = \"log_completo.csv\"\n",
    "try:\n",
    "    datos = pd.read_csv(archivo)\n",
    "except FileNotFoundError:\n",
    "    print('El archivo buscado no existe')\n",
    "except PermissionError:\n",
    "    print('No tiene permiso para acceder al archivo')\n",
    "else:\n",
    "    resultado = filtrar_datos(datos, \"Hypno\", \"Butterfree\", \"Rhyhorn\")\n",
    "    print(resultado)"
   ]
  }
 ],
 "metadata": {
  "kernelspec": {
   "display_name": "Python 3",
   "language": "python",
   "name": "python3"
  },
  "language_info": {
   "codemirror_mode": {
    "name": "ipython",
    "version": 3
   },
   "file_extension": ".py",
   "mimetype": "text/x-python",
   "name": "python",
   "nbconvert_exporter": "python",
   "pygments_lexer": "ipython3",
   "version": "3.11.2"
  },
  "orig_nbformat": 4
 },
 "nbformat": 4,
 "nbformat_minor": 2
}

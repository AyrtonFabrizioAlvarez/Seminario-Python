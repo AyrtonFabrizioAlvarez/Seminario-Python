{
 "cells": [
  {
   "cell_type": "markdown",
   "metadata": {
    "id": "PgHJzvphFMq-"
   },
   "source": [
    "# Python 2023 - Práctica 2"
   ]
  },
  {
   "cell_type": "markdown",
   "metadata": {},
   "source": [
    "## Objetivos\n",
    "\n",
    "- Comenzar a resolver problemas un poco más complejos.\n",
    "- Utilizar correctamente las estructuras de datos de Python\n",
    "  tratando de hacer la elección más adecuada de acuerdo al problema."
   ]
  },
  {
   "cell_type": "markdown",
   "metadata": {
    "id": "WDwTAtUvicUt"
   },
   "source": [
    "# Ejercicios"
   ]
  },
  {
   "cell_type": "markdown",
   "metadata": {
    "id": "0Ed-nHY5LdIk"
   },
   "source": [
    "1. Tomando el texto del `README.md` de [numpy](https://github.com/numpy/numpy), copiar y pegar el texto en una variable, luego imprima todas las líneas que contienen 'http' o 'https'.\n",
    "\n"
   ]
  },
  {
   "cell_type": "markdown",
   "metadata": {
    "id": "n_EIQ-8VL8hG"
   },
   "source": [
    "2. Indique la palabra que aparece mayor cantidad de veces en el texto del `README.md` de numpy. Copie y pegue el texto en una varible. \n",
    "\n",
    "Recordemos algunas funciones de string:\n",
    "* lower\n",
    "* split\n"
   ]
  },
  {
   "cell_type": "markdown",
   "metadata": {},
   "source": [
    "Investigue el módulo [Counter](https://docs.python.org/3/library/collections.html#collections.Counter) para simplificar la resolución."
   ]
  },
  {
   "cell_type": "markdown",
   "metadata": {},
   "source": [
    "## Identificando mayúsculas, minúsculas y caracteres no letras"
   ]
  },
  {
   "cell_type": "code",
   "execution_count": 8,
   "metadata": {},
   "outputs": [
    {
     "name": "stdout",
     "output_type": "stream",
     "text": [
      "True\n"
     ]
    }
   ],
   "source": [
    "caracter = \"T\"\n",
    "print(texto.split()[0].startswith(caracter))\n",
    "        "
   ]
  },
  {
   "cell_type": "markdown",
   "metadata": {},
   "source": [
    "¿Pero qué pasa si queremos saber indistintamente si la palabra comienza con dicha letra en minúscula o mayúscula?"
   ]
  },
  {
   "cell_type": "code",
   "execution_count": 9,
   "metadata": {},
   "outputs": [
    {
     "name": "stdout",
     "output_type": "stream",
     "text": [
      "True\n"
     ]
    }
   ],
   "source": [
    "caracter = \"t\"\n",
    "print(texto.lower().split()[0].startswith(caracter))\n",
    "        "
   ]
  },
  {
   "cell_type": "markdown",
   "metadata": {},
   "source": [
    "¿Y si el caracter ingresado no es una letra?"
   ]
  },
  {
   "cell_type": "code",
   "execution_count": 10,
   "metadata": {},
   "outputs": [
    {
     "name": "stdout",
     "output_type": "stream",
     "text": [
      "False\n"
     ]
    }
   ],
   "source": [
    "import string\n",
    "caracter = \"?\"\n",
    "print(caracter in string.ascii_letters)"
   ]
  },
  {
   "cell_type": "markdown",
   "metadata": {
    "id": "EtO2KrCcMFeP"
   },
   "source": [
    "3. Dado el siguiente texto guardado en la varible *jupyter_info*,  solicite por teclado **una letra** e imprima las palabras que comienzan con dicha letra. En caso que no se haya inrgesado un letra, indique el error. *Ver: módulo string*\n",
    "\n",
    "```python\n",
    "jupyter_info = \"\"\" JupyterLab is a web-based interactive development environment for Jupyter notebooks, \n",
    "code, and data. JupyterLab is flexible: configure and arrange the user interface to support a wide range \n",
    "of workflows in data science, scientific computing, and machine learning. JupyterLab is extensible and\n",
    "modular: write plugins that add new components and integrate with existing ones.\n",
    "\"\"\"\n",
    "```"
   ]
  },
  {
   "cell_type": "markdown",
   "metadata": {},
   "source": [
    "4. Para la aceptación de un artículo en un congreso se definen las siguientes especificaciones que deben cumplir y recomendaciones de escritura:\n",
    "* **título**: 10 palabras como máximo\n",
    "* cada oración del **resumen**:\n",
    "    * hasta 12 palabras: fácil de leer\n",
    "    * entre 13-17 palabras:  aceptable para leer\n",
    "    * entre 18-25 palabras: difícil de leer\n",
    "    * mas de 25 palabras: muy difícil\n",
    "\n",
    "Dado un artículo en formato string, defina si cumple las especificaciones del título y cuántas oraciones tiene de cada categoría. El formato estándar en que recibe el string tiene la siguiente forma:\n",
    "```Python\n",
    "\n",
    "evaluar = \"\"\" título: Experiences in Developing a Distributed Agent-based Modeling Toolkit with Python\n",
    "resumen: Distributed agent-based modeling (ABM) on high-performance computing resources provides the promise of capturing unprecedented details of large-scale complex systems. However, the specialized knowledge required for developing such ABMs creates barriers to wider adoption and utilization. Here we present our experiences in developing an initial implementation of Repast4Py, a Python-based distributed ABM toolkit. We build on our experiences in developing ABM toolkits, including Repast for High Performance Computing (Repast HPC), to identify the key elements of a useful distributed ABM toolkit. We leverage the Numba, NumPy, and PyTorch packages and the Python C-API to create a scalable modeling system that can exploit the largest HPC resources and emerging computing architectures.\n",
    "\"\"\"\n",
    "```"
   ]
  },
  {
   "cell_type": "markdown",
   "metadata": {},
   "source": [
    "En este ejemplo se debe informar:\n",
    "   * título: ok\n",
    "   * Cantidad de oraciones fáciles de leer: 1, aceptables para leer: 2, dificil de leer: 1,  muy difícil de leer: 2"
   ]
  },
  {
   "cell_type": "markdown",
   "metadata": {
    "id": "VwytQaHjFMrk"
   },
   "source": [
    " 5. Dada una frase y un string ingresados por teclado (en ese orden), genere una lista de palabras, y sobre ella, informe la cantidad de palabras en las que se encuentra el string. No distingir entre mayúsculas y minúsculas.\n",
    "\n",
    "**Ejemplo 1**\n",
    "\n",
    "- **Para la frase**: \"Tres tristes tigres, tragaban trigo en un trigal, en tres tristes trastos, tragaban trigo tres tristes tigres.\"\n",
    "- **Palabra**: \"tres\"\n",
    "- **Resultado**: 3\n",
    "\n",
    "**Ejemplo 2**\n",
    "\n",
    "- **Para la frase**: \"Tres tristes tigres, tragaban trigo en un trigal, en tres tristes trastos, tragaban trigo tres tristes tigres.\"\n",
    "- **Palabra**: \"tigres\"\n",
    "- **Resultado**: 2\n",
    "\n",
    "**Ejemplo 3**\n",
    "\n",
    "- **Para la frase**: \"Tres tristes tigres, tragaban trigo en un trigal, en tres tristes trastos, tragaban trigo tres tristes tigres.\"\n",
    "- **Palabra**: \"TRISTES\"\n",
    "- **Resultado**: 3"
   ]
  },
  {
   "cell_type": "markdown",
   "metadata": {},
   "source": [
    "6. Retomamos el código visto en la teoría, que informaba si una palabra contenía la letra *a* en una palabra ingresada"
   ]
  },
  {
   "cell_type": "code",
   "execution_count": 1,
   "metadata": {},
   "outputs": [
    {
     "name": "stdout",
     "output_type": "stream",
     "text": [
      "Ingresá una palabra: mundo\n",
      "No hay letras a. \n"
     ]
    }
   ],
   "source": [
    "palabra = input(\"Ingresá una palabra: \")\n",
    "if \"a\" in palabra:\n",
    "    print(\"Hay letras a.\")\n",
    "else:\n",
    "    print(\"No hay letras a. \")"
   ]
  },
  {
   "cell_type": "markdown",
   "metadata": {},
   "source": [
    "Si ahora queremos saber si contiene la letra *a* y también la letra *n*, cómo lo modificamos?"
   ]
  },
  {
   "cell_type": "markdown",
   "metadata": {},
   "source": [
    "7. Dada una frase identificar mayúsculas, minúsculas y caracteres no letras y contar la cantidad de palabras sin distinguir entre mayúsculas y minúsculas, en la frase. \n",
    "```python\n",
    "texto = \"\"\"\n",
    " El salario promedio de un hombre en Argentina es de $60.000, mientras que el de una mujer es de $45.000. Además, las mujeres tienen menos posibilidades de acceder a puestos de liderazgo en las empresas.\n",
    "  \"\"\"\n",
    "```"
   ]
  },
  {
   "cell_type": "markdown",
   "metadata": {},
   "source": [
    "8. Escriba un programa que solicite que se ingrese una palabra o frase y permita identificar si la misma es un [Heterograma](https://es.qaz.wiki/wiki/Isogram) (tenga en cuenta que el contenido del enlace es una traducción del inglés por lo cual las palabras que nombra no son heterogramas en español). Un Heterograma es una palabra o frase que no tiene ninguna letra repetida entre sus caracteres.\n",
    "\n",
    "**Tener en cuenta**\n",
    "- Lo que no se puede repetir en la frase son sólo aquellos caracteres que sean letras.\n",
    "- No se distingue entre mayúsculas y minúsculas, es decir si en la frase o palabra tenemos la letra \"T\" y la letra \"t\" la misma NO será un Hererograma.\n",
    "- Para simplificar el ejercicio vamos a tomar como que las letras con tilde y sin tilde son distintas. Ya que Python las diferencia:\n",
    "```python\n",
    ">>> 'u' == 'ú'\n",
    "False\n",
    "```\n",
    "\n",
    "**Ejemplos**\n",
    "\n",
    "|Entreda|¿Heterograma?|\n",
    "|-----|-----|\n",
    "|cruzamiento|Sí|\n",
    "|centrifugados|Sí|\n",
    "|portón|Sí|\n",
    "|casa|No|\n",
    "|día de sol|No|\n",
    "|con diez uñas|Sí|\n",
    "|no-se-duplica|Sí|"
   ]
  },
  {
   "cell_type": "markdown",
   "metadata": {},
   "source": [
    "9. Escriba un programa que solicite por teclado una palabra y calcule el valor de la misma dada la siguiente tabla de valores del juego Scrabble:\n",
    "\n",
    "\n",
    "|Letra                       |valor|\n",
    "|-----                       |-----|\n",
    "|A, E, I, O, U, L, N, R, S, T|1|\n",
    "|D, G                        |2|\n",
    "|B, C, M, P                  |3|\n",
    "|F, H, V, W, Y               |4|\n",
    "|K                           |5|\n",
    "|J, X                        |8|\n",
    "|Q, Z                        |10|\n",
    "\n",
    "<center>\n",
    "  <i>*Tenga en cuenta qué estructura elige para guardar estos valores en Python</i>\n",
    "</center>\n",
    "\n",
    "**Ejemplo 1**\n",
    "\n",
    "- **Palabra**: \"solo\"\n",
    "- **valor**: 4\n",
    "\n",
    "**Ejemplo 2**\n",
    "\n",
    "- **Palabra**: \"tomate\"\n",
    "- **valor**: 8"
   ]
  },
  {
   "cell_type": "markdown",
   "metadata": {},
   "source": [
    "10. Dada una lista de nombres de estudiantes y dos listas con sus notas en un curso, escriba un programa que manipule dichas estructuras de datos para poder resolver los siguientes puntos:\n",
    "    1. Generar una estructura todas las notas sin que se repitan, sin guardar los nombres de los estudiantes.\n",
    "    2. Calcular el promedio de notas de cada estudiante.\n",
    "    3. Calcular el promedio general del curso.\n",
    "    4. Identificar al estudiante con la nota promedio más alta.\n",
    "    5. Identificar al estudiante con la nota más baja.\n",
    "\n",
    "\n",
    "**Nota**:\n",
    "- Las 3 estructuras están ordenadas de forma que los elementos en la misma posición corresponden a un mismo alumno.\n",
    "- Realizar funciones con cada item\n",
    "\n"
   ]
  },
  {
   "cell_type": "code",
   "execution_count": 2,
   "metadata": {},
   "outputs": [],
   "source": [
    "nombres = ''' 'Agustin', 'Alan', 'Andrés', 'Ariadna', 'Bautista', 'CAROLINA', 'CESAR', 'David',\n",
    "'Diego', 'Dolores', 'DYLAN', 'ELIANA', 'Emanuel', 'Fabián', 'Facundo', 'Francsica', \n",
    "'FEDERICO', 'Fernanda', 'GONZALO', 'Gregorio', 'Ignacio', 'Jonathan', 'Joaquina', 'Jorge',\n",
    "'JOSE', 'Javier', 'Joaquín'  , 'Julian', 'Julieta', 'Luciana','LAUTARO', 'Leonel', 'Luisa', \n",
    "'Luis', 'Marcos', 'María', 'MATEO', 'Matias', 'Nicolás',  'Nancy', 'Noelia', 'Pablo', \n",
    "'Priscila', 'Sabrina', 'Tomás', 'Ulises', 'Yanina' '''\n",
    "notas_1 = [81,  60, 72, 24, 15, 91, 12, 70, 29, 42, 16, 3, 35, 67, 10, 57, 11, 69, 12, 77, \n",
    "           13, 86, 48, 65, 51, 41, 87, 43, 10, 87, 91, 15, 44, 85, 73, 37, 42, 95, 18, 7, \n",
    "           74, 60, 9, 65, 93, 63, 74]\n",
    "notas_2 = [30, 95, 28, 84, 84, 43, 66, 51, 4, 11, 58, 10, 13, 34, 96, 71, 86, 37, 64, 13, 8,\n",
    "           87, 14, 14, 49, 27, 55, 69, 77, 59, 57, 40, 96, 24, 30, 73, 95, 19, 47, 15, 31,\n",
    "           39, 15, 74, 33, 57, 10]"
   ]
  },
  {
   "cell_type": "markdown",
   "metadata": {},
   "source": [
    "# Entrega 2\n",
    "### Pautas\n",
    "   * Suba la resolución total del **ejercicio 10** al repositorio individual de Github, luego elija uno de los siguientes items: A,C,D o E y realice un video explicando cómo lo resolvió y las decisiones que tomó implementando map, zip, lambda (por qué utilizó cada estructura de datos o estructura de control) y muestre la ejecución del programa en la terminal.\n",
    "   * **Duración máxima del video**: 5 minutos\n",
    "\n",
    "   * **Puntos**: 15.\n",
    "   * **Fecha límite de entrega**: Viernes, 14 de abril de 2023, 23:59\n",
    "   * **Modalidad de entrega**: Subir el programa al repositorio de github y copie el enlace del repositorio  junto con el link del video en la resolución de la tarea de Cátedras.\n",
    "\n"
   ]
  },
  {
   "cell_type": "code",
   "execution_count": null,
   "metadata": {},
   "outputs": [],
   "source": []
  }
 ],
 "metadata": {
  "colab": {
   "collapsed_sections": [],
   "name": "Practica 2 - Resuelta.ipynb",
   "provenance": [],
   "toc_visible": true
  },
  "kernelspec": {
   "display_name": "Python 3 (ipykernel)",
   "language": "python",
   "name": "python3"
  },
  "language_info": {
   "codemirror_mode": {
    "name": "ipython",
    "version": 3
   },
   "file_extension": ".py",
   "mimetype": "text/x-python",
   "name": "python",
   "nbconvert_exporter": "python",
   "pygments_lexer": "ipython3",
   "version": "3.11.2"
  }
 },
 "nbformat": 4,
 "nbformat_minor": 4
}
